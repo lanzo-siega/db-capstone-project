{
 "cells": [
  {
   "cell_type": "code",
   "execution_count": 24,
   "metadata": {},
   "outputs": [],
   "source": [
    "# importing MySQL Connector and credentials (was not pushed to repo)\n",
    "\n",
    "import mysql.connector as connector\n",
    "from credentials import username,password"
   ]
  },
  {
   "attachments": {},
   "cell_type": "markdown",
   "metadata": {},
   "source": [
    "<h3 align='center'>Task 1: Connecting to Database</h3>"
   ]
  },
  {
   "cell_type": "code",
   "execution_count": 35,
   "metadata": {},
   "outputs": [],
   "source": [
    "connection = connector.connect(host=\"localhost\",user = username, password = password, db='littlelemondb')\n",
    "cursor = connection.cursor()"
   ]
  },
  {
   "attachments": {},
   "cell_type": "markdown",
   "metadata": {},
   "source": [
    "<h2 align='center'>Task 2: Show Tables Query</h2>"
   ]
  },
  {
   "cell_type": "code",
   "execution_count": 38,
   "metadata": {},
   "outputs": [
    {
     "name": "stdout",
     "output_type": "stream",
     "text": [
      "[('bookings',), ('delivery',), ('employees',), ('guest',), ('menu',), ('menuitems',), ('orders',), ('ordersview',)]\n"
     ]
    }
   ],
   "source": [
    "show_tables_query = \"\"\"SHOW TABLES;\"\"\"\n",
    "\n",
    "cursor.execute(show_tables_query)\n",
    "results = cursor.fetchall()\n",
    "\n",
    "print(results)"
   ]
  },
  {
   "attachments": {},
   "cell_type": "markdown",
   "metadata": {},
   "source": [
    "<h2 align='center'>Task 3: Query with Table JOIN</h2>"
   ]
  },
  {
   "cell_type": "code",
   "execution_count": 39,
   "metadata": {},
   "outputs": [
    {
     "name": "stdout",
     "output_type": "stream",
     "text": [
      "[('Anna Iversen', 1234567890, '1')]\n"
     ]
    }
   ],
   "source": [
    "join_query = \"\"\"SELECT\n",
    "\tCONCAT(g.GuestFirstName, ' ', g.GuestLastName) GuestFullName\n",
    "    ,g.GuestPhone\n",
    "    ,g.GuestAddress\n",
    "FROM\n",
    "\tGuest g\n",
    "\tINNER JOIN Bookings b ON g.GuestID = b.GuestID\n",
    "    INNER JOIN Orders o ON b.BookingID = o.BookingID\n",
    "WHERE\n",
    "\to.BillAmount > 60;\"\"\"\n",
    "\n",
    "cursor.execute(join_query)\n",
    "results = cursor.fetchall()\n",
    "\n",
    "print(results)"
   ]
  },
  {
   "attachments": {},
   "cell_type": "markdown",
   "metadata": {},
   "source": [
    "<h2 align='center'>Closing the Client</h2>"
   ]
  },
  {
   "cell_type": "code",
   "execution_count": 42,
   "metadata": {},
   "outputs": [
    {
     "name": "stdout",
     "output_type": "stream",
     "text": [
      "The connection has been closed.\n"
     ]
    }
   ],
   "source": [
    "if connection.is_connected():\n",
    "    cursor.close()\n",
    "    connection.close()\n",
    "    print('The connection has been closed.')\n",
    "else:\n",
    "    print('Connection is already closed.')\n",
    "    "
   ]
  }
 ],
 "metadata": {
  "kernelspec": {
   "display_name": "Python 3",
   "language": "python",
   "name": "python3"
  },
  "language_info": {
   "codemirror_mode": {
    "name": "ipython",
    "version": 3
   },
   "file_extension": ".py",
   "mimetype": "text/x-python",
   "name": "python",
   "nbconvert_exporter": "python",
   "pygments_lexer": "ipython3",
   "version": "3.8.6"
  },
  "orig_nbformat": 4,
  "vscode": {
   "interpreter": {
    "hash": "d9269ca3e35f8057cbd8e29337c2fce46456d8a32d7d46602fff861b00f20ba2"
   }
  }
 },
 "nbformat": 4,
 "nbformat_minor": 2
}
